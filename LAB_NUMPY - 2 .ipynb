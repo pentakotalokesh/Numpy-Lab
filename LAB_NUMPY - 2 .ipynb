{
  "nbformat": 4,
  "nbformat_minor": 0,
  "metadata": {
    "colab": {
      "name": "LAB NUMPY",
      "provenance": [],
      "authorship_tag": "ABX9TyPCGDWWsL62EBuH8Irmhfai",
      "include_colab_link": true
    },
    "kernelspec": {
      "name": "python3",
      "display_name": "Python 3"
    },
    "language_info": {
      "name": "python"
    }
  },
  "cells": [
    {
      "cell_type": "markdown",
      "metadata": {
        "id": "view-in-github",
        "colab_type": "text"
      },
      "source": [
        "<a href=\"https://colab.research.google.com/github/pentakotalokesh/Numpy-Lab/blob/main/LAB_NUMPY%20-%202%20.ipynb\" target=\"_parent\"><img src=\"https://colab.research.google.com/assets/colab-badge.svg\" alt=\"Open In Colab\"/></a>"
      ]
    },
    {
      "cell_type": "markdown",
      "metadata": {
        "id": "FZeSa_5-VKT1"
      },
      "source": [
        "2.NumPy Basics (np.array, np.arrange, np.linespace, np.zeros, np.ones,\n",
        "np.random.random, np.empty)"
      ]
    },
    {
      "cell_type": "code",
      "metadata": {
        "colab": {
          "base_uri": "https://localhost:8080/"
        },
        "id": "bendmpdKVNoR",
        "outputId": "1b7e10d5-6248-494a-ad81-9468dbe936ae"
      },
      "source": [
        "import numpy as np\n",
        "a=np.array([1,2,3,4])\n",
        "print(a)\n",
        "print(type(a))"
      ],
      "execution_count": 4,
      "outputs": [
        {
          "output_type": "stream",
          "name": "stdout",
          "text": [
            "[1 2 3 4]\n",
            "<class 'numpy.ndarray'>\n"
          ]
        }
      ]
    },
    {
      "cell_type": "markdown",
      "metadata": {
        "id": "-OqSCVG-V0FD"
      },
      "source": [
        "To Create an ndarray,we can pass a list,tuple or nay array-like object into the array()method and it will be converted into an ndarray"
      ]
    },
    {
      "cell_type": "code",
      "metadata": {
        "colab": {
          "base_uri": "https://localhost:8080/"
        },
        "id": "ACu_xiKpVXgM",
        "outputId": "c4256bbd-5f3f-41f6-eedb-b563abc823c9"
      },
      "source": [
        "b=np.array((1,2,3,4))\n",
        "print(b)\n",
        "print(type(b))"
      ],
      "execution_count": 5,
      "outputs": [
        {
          "output_type": "stream",
          "name": "stdout",
          "text": [
            "[1 2 3 4]\n",
            "<class 'numpy.ndarray'>\n"
          ]
        }
      ]
    },
    {
      "cell_type": "markdown",
      "metadata": {
        "id": "ZYD5bq4CWcl8"
      },
      "source": [
        "Dimension in array\n",
        "nested array:are arrays as their elements"
      ]
    },
    {
      "cell_type": "code",
      "metadata": {
        "colab": {
          "base_uri": "https://localhost:8080/"
        },
        "id": "pi_Tbd1HWNB0",
        "outputId": "91495829-4f9c-419f-9d4b-10ec8bd9654a"
      },
      "source": [
        "#0-D array\n",
        "arr=np.array([42])\n",
        "print(arr)"
      ],
      "execution_count": 12,
      "outputs": [
        {
          "output_type": "stream",
          "name": "stdout",
          "text": [
            "[42]\n"
          ]
        }
      ]
    },
    {
      "cell_type": "code",
      "metadata": {
        "colab": {
          "base_uri": "https://localhost:8080/"
        },
        "id": "92E0foKbWxC6",
        "outputId": "28a35e1e-63e5-4791-bcea-ed7b6137f664"
      },
      "source": [
        "#1-D array\n",
        "arr1=np.array([8,6,3,9,6,3,6,3,9,3])\n",
        "print(arr)"
      ],
      "execution_count": 9,
      "outputs": [
        {
          "output_type": "stream",
          "name": "stdout",
          "text": [
            "[[1 2 3 4]\n",
            " [5 6 7 8]]\n"
          ]
        }
      ]
    },
    {
      "cell_type": "code",
      "metadata": {
        "colab": {
          "base_uri": "https://localhost:8080/"
        },
        "id": "y_WB8zzFW967",
        "outputId": "9b18a6d5-9ec2-4a29-d167-7aa0e19ff209"
      },
      "source": [
        "#2-D array\n",
        "arr2=np.array([[1,2,3,4],\n",
        "             [5,6,7,8]])\n",
        "print(arr)\n"
      ],
      "execution_count": 10,
      "outputs": [
        {
          "output_type": "stream",
          "name": "stdout",
          "text": [
            "[[1 2 3 4]\n",
            " [5 6 7 8]]\n"
          ]
        }
      ]
    },
    {
      "cell_type": "markdown",
      "metadata": {
        "id": "WXe7ULlQXeAZ"
      },
      "source": [
        "Check number of dimensions ndim\n"
      ]
    },
    {
      "cell_type": "code",
      "metadata": {
        "colab": {
          "base_uri": "https://localhost:8080/"
        },
        "id": "fTevFxsPXSfH",
        "outputId": "10876602-7227-4c4c-a745-306d4a490756"
      },
      "source": [
        "print(arr.ndim)\n",
        "print(arr1.ndim)\n",
        "print(arr2.ndim)"
      ],
      "execution_count": 13,
      "outputs": [
        {
          "output_type": "stream",
          "name": "stdout",
          "text": [
            "1\n",
            "1\n",
            "2\n"
          ]
        }
      ]
    },
    {
      "cell_type": "markdown",
      "metadata": {
        "id": "DVX_lm6FYzZv"
      },
      "source": [
        "numpy arrange\n"
      ]
    },
    {
      "cell_type": "code",
      "metadata": {
        "id": "5U0OO6adY1j6"
      },
      "source": [
        "arr3=np.arange(3)\n",
        "arr4=np.arange(5,10)\n",
        "arr5=np.arange(3,7,2)"
      ],
      "execution_count": 16,
      "outputs": []
    },
    {
      "cell_type": "code",
      "metadata": {
        "colab": {
          "base_uri": "https://localhost:8080/"
        },
        "id": "Zazj9Cs3X2ml",
        "outputId": "8fd9944d-326c-4ba2-d97c-dca43506ca1e"
      },
      "source": [
        "print(arr3)\n",
        "print(arr4)\n",
        "print(arr5)"
      ],
      "execution_count": 17,
      "outputs": [
        {
          "output_type": "stream",
          "name": "stdout",
          "text": [
            "[0 1 2]\n",
            "[5 6 7 8 9]\n",
            "[3 5]\n"
          ]
        }
      ]
    },
    {
      "cell_type": "markdown",
      "metadata": {
        "id": "nX1PAbSEaFeO"
      },
      "source": [
        "linspace:It Gives Evenly Linespace in ndarray between numbers"
      ]
    },
    {
      "cell_type": "code",
      "metadata": {
        "colab": {
          "base_uri": "https://localhost:8080/"
        },
        "id": "2niGYcpeZkOf",
        "outputId": "7fd6107d-4980-4bde-cd3a-3266c693f5f0"
      },
      "source": [
        "arr6=np.linspace(2,3,num=5)\n",
        "print(arr6)"
      ],
      "execution_count": 19,
      "outputs": [
        {
          "output_type": "stream",
          "name": "stdout",
          "text": [
            "[2.   2.25 2.5  2.75 3.  ]\n"
          ]
        }
      ]
    },
    {
      "cell_type": "markdown",
      "metadata": {
        "id": "__051TQJatDS"
      },
      "source": [
        "np.zeros: is used to get all zeros matrix in any dimension"
      ]
    },
    {
      "cell_type": "code",
      "metadata": {
        "colab": {
          "base_uri": "https://localhost:8080/"
        },
        "id": "NgBh17_2aX1s",
        "outputId": "c56722b8-4455-4c93-b9f1-f7511ea98c4c"
      },
      "source": [
        "arr7=np.zeros((3,3,),dtype=int)\n",
        "print(arr7)"
      ],
      "execution_count": 22,
      "outputs": [
        {
          "output_type": "stream",
          "name": "stdout",
          "text": [
            "[[0 0 0]\n",
            " [0 0 0]\n",
            " [0 0 0]]\n"
          ]
        }
      ]
    },
    {
      "cell_type": "markdown",
      "metadata": {
        "id": "qtl5n4SkbO19"
      },
      "source": [
        "np.ones:is used to get all ones matrix"
      ]
    },
    {
      "cell_type": "code",
      "metadata": {
        "colab": {
          "base_uri": "https://localhost:8080/"
        },
        "id": "gQxyoby6bFzi",
        "outputId": "87105796-b0fe-4c8a-abd9-11183af63bf0"
      },
      "source": [
        "arr8=np.ones((3,3),dtype=int)\n",
        "print(arr8)"
      ],
      "execution_count": 23,
      "outputs": [
        {
          "output_type": "stream",
          "name": "stdout",
          "text": [
            "[[1 1 1]\n",
            " [1 1 1]\n",
            " [1 1 1]]\n"
          ]
        }
      ]
    },
    {
      "cell_type": "markdown",
      "metadata": {
        "id": "qpy5FTegbwhS"
      },
      "source": [
        "np.random.random:is one of the function for doing random sampling in numpy.\n",
        "It returns an array of specified shape and fills it with random floats in the half open interval\n",
        "\n",
        "[0.0,1.0)"
      ]
    },
    {
      "cell_type": "code",
      "metadata": {
        "colab": {
          "base_uri": "https://localhost:8080/"
        },
        "id": "kRu7xRUHbej_",
        "outputId": "7bddcff0-0ea5-434c-f8d1-ab2abb01bbc9"
      },
      "source": [
        "arr9=np.random.random(5)\n",
        "print(arr9)"
      ],
      "execution_count": 24,
      "outputs": [
        {
          "output_type": "stream",
          "name": "stdout",
          "text": [
            "[0.62552848 0.89506733 0.41646548 0.71389882 0.42322657]\n"
          ]
        }
      ]
    },
    {
      "cell_type": "code",
      "metadata": {
        "colab": {
          "base_uri": "https://localhost:8080/"
        },
        "id": "FVmtk684cTav",
        "outputId": "f802de58-e6e3-410e-b69c-1acda6ac33e7"
      },
      "source": [
        "arr10=np.empty([3,3],dtype=int)\n",
        "print(arr10)"
      ],
      "execution_count": 25,
      "outputs": [
        {
          "output_type": "stream",
          "name": "stdout",
          "text": [
            "[[     94109989229888                  42      94111323389951]\n",
            " [7147042649926496103 7451595014149599084 3636198724363187569]\n",
            " [7867629619916206127 8030604430244406383 7349986125609463668]]\n"
          ]
        }
      ]
    },
    {
      "cell_type": "code",
      "metadata": {
        "id": "5QaQZJCGlhzw"
      },
      "source": [
        ""
      ],
      "execution_count": null,
      "outputs": []
    }
  ]
}